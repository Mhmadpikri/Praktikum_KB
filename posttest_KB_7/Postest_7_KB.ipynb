{
 "cells": [
  {
   "cell_type": "markdown",
   "id": "0ba355f5-d37c-4cfc-8348-42fbe2bf4876",
   "metadata": {},
   "source": [
    "## Muhammad Fikri\n",
    "## 2109106010\n",
    "## Informatika A 21\n",
    "## Postest 7 KB"
   ]
  },
  {
   "cell_type": "markdown",
   "id": "54ec2899-9d82-4d53-a2c3-a6ece6dd31f3",
   "metadata": {},
   "source": [
    "# Pengenalan Tensorflow"
   ]
  },
  {
   "cell_type": "markdown",
   "id": "9929d024-9d07-4e58-8ceb-6491046943c6",
   "metadata": {},
   "source": [
    "## LIBRARY"
   ]
  },
  {
   "cell_type": "code",
   "execution_count": 1,
   "id": "8afffd0c-985a-4f68-b517-04f1a346da5d",
   "metadata": {},
   "outputs": [],
   "source": [
    "import tensorflow as tf"
   ]
  },
  {
   "cell_type": "markdown",
   "id": "e9993b36-cf9d-44a2-acf3-8d5589ab7b19",
   "metadata": {},
   "source": [
    "## 1. Buatlah sebuah tensor dengan shape(5,5) dengan nilai random yang disimpan dalam variable random_tensor."
   ]
  },
  {
   "cell_type": "code",
   "execution_count": 2,
   "id": "9e70f1cd-f9b6-4c2d-835f-28f26a19b9ba",
   "metadata": {},
   "outputs": [
    {
     "data": {
      "text/plain": [
       "array([[-0.27670863,  1.044424  ,  0.550125  , -0.99282146, -0.2260093 ],\n",
       "       [ 0.962488  ,  0.6275071 ,  1.2158355 ,  2.606744  , -0.23018064],\n",
       "       [ 1.7922432 , -2.2625775 , -0.6700773 ,  0.83154875,  0.19393615],\n",
       "       [-0.23747538, -0.5474935 ,  0.15425   , -0.4497052 ,  1.3929794 ],\n",
       "       [ 0.18530105,  1.2036611 ,  0.31885868, -0.95406336,  0.31005445]],\n",
       "      dtype=float32)"
      ]
     },
     "execution_count": 2,
     "metadata": {},
     "output_type": "execute_result"
    }
   ],
   "source": [
    "random_tensor = tf.random.normal([5,5])\n",
    "random_tensor.numpy()"
   ]
  },
  {
   "cell_type": "markdown",
   "id": "e7059769-bd33-432a-986a-67683c51a39e",
   "metadata": {},
   "source": [
    "## 2. Buatlah sebuah tensor dengan shape(5,5) dari sebuah list dengan nilai bilangan prima dalam variable prime_tensor."
   ]
  },
  {
   "cell_type": "code",
   "execution_count": 3,
   "id": "4d7cde92-c130-4f3e-b9d8-0b8d34399acc",
   "metadata": {},
   "outputs": [
    {
     "name": "stdout",
     "output_type": "stream",
     "text": [
      "tf.Tensor(\n",
      "[[ 1.  3.  5.  7. 11.]\n",
      " [13. 17. 19. 23. 29.]\n",
      " [31. 37. 41. 43. 47.]\n",
      " [53. 59. 61. 67. 71.]\n",
      " [73. 79. 83. 89. 97.]], shape=(5, 5), dtype=float32)\n"
     ]
    }
   ],
   "source": [
    "prime_tensor = tf.convert_to_tensor([[1 , 3, 5, 7, 11],\n",
    "                                    [13, 17, 19, 23, 29], \n",
    "                                    [31, 37, 41, 43, 47], \n",
    "                                    [53, 59, 61, 67, 71], \n",
    "                                    [73, 79, 83, 89, 97]], dtype=tf.float32)\n",
    "print(prime_tensor)"
   ]
  },
  {
   "cell_type": "markdown",
   "id": "dd517ed1-a783-4aff-a54c-62ef72f8e8ff",
   "metadata": {},
   "source": [
    "## 3. Tampilkan dimensi dari kedua variable tersebut."
   ]
  },
  {
   "cell_type": "code",
   "execution_count": 4,
   "id": "483bda56-fd61-49e7-80e4-80bce3dc18e7",
   "metadata": {},
   "outputs": [
    {
     "name": "stdout",
     "output_type": "stream",
     "text": [
      "Dimensi Variabel\n",
      "Random_Tensor Dimensi : (5, 5)\n",
      "Prime_Tensor Dimensi : (5, 5)\n"
     ]
    }
   ],
   "source": [
    "print(\"Dimensi Variabel\")\n",
    "print(\"Random_Tensor Dimensi :\",random_tensor.shape)\n",
    "print(\"Prime_Tensor Dimensi :\",prime_tensor.shape) #dari bilangan prima"
   ]
  },
  {
   "cell_type": "markdown",
   "id": "0985b558-59e0-4e68-8e4f-0d0e6e3c7f6d",
   "metadata": {},
   "source": [
    "## 4. Tampilkan hasil dari perhitungan aritmetika 2 variable tersebut (Gunakan minimal 5 operator)."
   ]
  },
  {
   "cell_type": "markdown",
   "id": "a9e03734-19ca-4ba3-9e21-8c18187901e8",
   "metadata": {},
   "source": [
    "### PENJUMLAHAN"
   ]
  },
  {
   "cell_type": "code",
   "execution_count": 5,
   "id": "e7033ead-75bd-4938-9b02-39834f765b99",
   "metadata": {},
   "outputs": [
    {
     "data": {
      "text/plain": [
       "<tf.Tensor: shape=(5, 5), dtype=float32, numpy=\n",
       "array([[ 0.7232914,  4.044424 ,  5.550125 ,  6.0071783, 10.773991 ],\n",
       "       [13.962488 , 17.627506 , 20.215836 , 25.606745 , 28.76982  ],\n",
       "       [32.792244 , 34.737423 , 40.32992  , 43.83155  , 47.193935 ],\n",
       "       [52.762524 , 58.452507 , 61.15425  , 66.55029  , 72.39298  ],\n",
       "       [73.1853   , 80.20366  , 83.318855 , 88.04594  , 97.31005  ]],\n",
       "      dtype=float32)>"
      ]
     },
     "execution_count": 5,
     "metadata": {},
     "output_type": "execute_result"
    }
   ],
   "source": [
    "x = random_tensor\n",
    "y = prime_tensor\n",
    "tf.add(x,y)"
   ]
  },
  {
   "cell_type": "markdown",
   "id": "9d3bc85d-c109-42f4-a976-75bbc2183a3b",
   "metadata": {},
   "source": [
    "### PERKALIAN"
   ]
  },
  {
   "cell_type": "code",
   "execution_count": 6,
   "id": "2603817c-ec41-4c0e-b6bb-29ee102e3ce8",
   "metadata": {},
   "outputs": [
    {
     "data": {
      "text/plain": [
       "<tf.Tensor: shape=(5, 5), dtype=float32, numpy=\n",
       "array([[ -0.27670863,   3.1332722 ,   2.7506251 ,  -6.94975   ,\n",
       "         -2.4861023 ],\n",
       "       [ 12.512344  ,  10.667621  ,  23.100874  ,  59.955112  ,\n",
       "         -6.6752386 ],\n",
       "       [ 55.55954   , -83.71537   , -27.473171  ,  35.756596  ,\n",
       "          9.114999  ],\n",
       "       [-12.586195  , -32.302116  ,   9.409249  , -30.130249  ,\n",
       "         98.901535  ],\n",
       "       [ 13.526977  ,  95.089226  ,  26.465271  , -84.91164   ,\n",
       "         30.075281  ]], dtype=float32)>"
      ]
     },
     "execution_count": 6,
     "metadata": {},
     "output_type": "execute_result"
    }
   ],
   "source": [
    "tf.multiply(x,y)"
   ]
  },
  {
   "cell_type": "markdown",
   "id": "04be8aa9-01b9-4340-9d61-831097735a75",
   "metadata": {},
   "source": [
    "### PENGURANGAN"
   ]
  },
  {
   "cell_type": "code",
   "execution_count": 7,
   "id": "da511b8d-6294-45bc-8864-bab94f0f169c",
   "metadata": {},
   "outputs": [
    {
     "data": {
      "text/plain": [
       "<tf.Tensor: shape=(5, 5), dtype=float32, numpy=\n",
       "array([[ -1.2767086,  -1.955576 ,  -4.449875 ,  -7.9928217, -11.226009 ],\n",
       "       [-12.037512 , -16.372494 , -17.784164 , -20.393255 , -29.23018  ],\n",
       "       [-29.207756 , -39.262577 , -41.67008  , -42.16845  , -46.806065 ],\n",
       "       [-53.237476 , -59.547493 , -60.84575  , -67.44971  , -69.60702  ],\n",
       "       [-72.8147   , -77.79634  , -82.681145 , -89.95406  , -96.68995  ]],\n",
       "      dtype=float32)>"
      ]
     },
     "execution_count": 7,
     "metadata": {},
     "output_type": "execute_result"
    }
   ],
   "source": [
    "tf.subtract(x,y)"
   ]
  },
  {
   "cell_type": "markdown",
   "id": "ac87faee-02e4-4f43-985a-907e3534e4ca",
   "metadata": {},
   "source": [
    "### PEMBAGIAN"
   ]
  },
  {
   "cell_type": "code",
   "execution_count": 9,
   "id": "cd5efdd0-25ed-4ad1-8dcb-65bde2e85383",
   "metadata": {},
   "outputs": [
    {
     "data": {
      "text/plain": [
       "<tf.Tensor: shape=(5, 5), dtype=float32, numpy=\n",
       "array([[-0.27670863,  0.34814134,  0.110025  , -0.14183164, -0.0205463 ],\n",
       "       [ 0.07403754,  0.03691218,  0.06399134,  0.1133367 , -0.00793726],\n",
       "       [ 0.0578143 , -0.06115074, -0.01634335,  0.01933834,  0.0041263 ],\n",
       "       [-0.00448067, -0.00927955,  0.00252869, -0.00671202,  0.01961943],\n",
       "       [ 0.00253837,  0.01523622,  0.00384167, -0.01071981,  0.00319644]],\n",
       "      dtype=float32)>"
      ]
     },
     "execution_count": 9,
     "metadata": {},
     "output_type": "execute_result"
    }
   ],
   "source": [
    "tf.divide(x,y)"
   ]
  },
  {
   "cell_type": "markdown",
   "id": "6c79bf9d-66fd-4dad-90a3-d3b8f7b7fad5",
   "metadata": {},
   "source": [
    "### PANGKAT"
   ]
  },
  {
   "cell_type": "code",
   "execution_count": 10,
   "id": "2efe595b-99b7-4088-ac48-93a1d6c490a7",
   "metadata": {},
   "outputs": [
    {
     "data": {
      "text/plain": [
       "<tf.Tensor: shape=(5, 5), dtype=float32, numpy=\n",
       "array([[-2.7670863e-01,  1.1392803e+00,  5.0385658e-02, -9.5081949e-01,\n",
       "        -7.8593985e-08],\n",
       "       [ 6.0832995e-01,  3.6267436e-04,  4.0984653e+01,  3.7176028e+09,\n",
       "        -3.1622396e-19],\n",
       "       [ 7.1664736e+07, -1.3192539e+13, -7.4322749e-08,  3.5906391e-04,\n",
       "         3.3110262e-34],\n",
       "       [-8.0869612e-34, -3.6674136e-16,  0.0000000e+00, -5.5740490e-24,\n",
       "         1.6598655e+10],\n",
       "       [ 0.0000000e+00,  2.2899888e+06,  0.0000000e+00, -1.5218512e-02,\n",
       "         0.0000000e+00]], dtype=float32)>"
      ]
     },
     "execution_count": 10,
     "metadata": {},
     "output_type": "execute_result"
    }
   ],
   "source": [
    "tf.pow(x,y)"
   ]
  },
  {
   "cell_type": "markdown",
   "id": "552e24fd-f303-48f6-b686-fba8216feda3",
   "metadata": {},
   "source": [
    "## 5. Tampilkan nilai maksimum dan minimum dari variable random_tensor."
   ]
  },
  {
   "cell_type": "code",
   "execution_count": 11,
   "id": "68ccfa70-4492-42d7-ad4d-e22a83cc1bcc",
   "metadata": {},
   "outputs": [
    {
     "name": "stdout",
     "output_type": "stream",
     "text": [
      "Nilai Maksimal random_tensor = tf.Tensor([2 4 1 1 3], shape=(5,), dtype=int64)\n",
      "Nilai Minimal random_tensor = tf.Tensor([0 2 2 0 1], shape=(5,), dtype=int64)\n"
     ]
    }
   ],
   "source": [
    "argmax = tf.constant(random_tensor)\n",
    "print(\"Nilai Maksimal random_tensor =\",tf.argmax(random_tensor,axis=0))\n",
    "print(\"Nilai Minimal random_tensor =\",tf.argmin(random_tensor,axis=0))"
   ]
  },
  {
   "cell_type": "markdown",
   "id": "c66ffc49-f6dc-415d-843e-6ad3d154e9e0",
   "metadata": {},
   "source": [
    "## 6. Tampilkan hasil dari penggabungan variable random_tensor dengan prime_tensor (concatenation)"
   ]
  },
  {
   "cell_type": "code",
   "execution_count": 12,
   "id": "85430fd3-d182-48ea-a188-9c1905bfa033",
   "metadata": {},
   "outputs": [
    {
     "data": {
      "text/plain": [
       "<tf.Tensor: shape=(10, 5), dtype=float32, numpy=\n",
       "array([[-0.27670863,  1.044424  ,  0.550125  , -0.99282146, -0.2260093 ],\n",
       "       [ 0.962488  ,  0.6275071 ,  1.2158355 ,  2.606744  , -0.23018064],\n",
       "       [ 1.7922432 , -2.2625775 , -0.6700773 ,  0.83154875,  0.19393615],\n",
       "       [-0.23747538, -0.5474935 ,  0.15425   , -0.4497052 ,  1.3929794 ],\n",
       "       [ 0.18530105,  1.2036611 ,  0.31885868, -0.95406336,  0.31005445],\n",
       "       [ 1.        ,  3.        ,  5.        ,  7.        , 11.        ],\n",
       "       [13.        , 17.        , 19.        , 23.        , 29.        ],\n",
       "       [31.        , 37.        , 41.        , 43.        , 47.        ],\n",
       "       [53.        , 59.        , 61.        , 67.        , 71.        ],\n",
       "       [73.        , 79.        , 83.        , 89.        , 97.        ]],\n",
       "      dtype=float32)>"
      ]
     },
     "execution_count": 12,
     "metadata": {},
     "output_type": "execute_result"
    }
   ],
   "source": [
    "concat = tf.concat([random_tensor,prime_tensor], axis=0)\n",
    "concat"
   ]
  },
  {
   "cell_type": "markdown",
   "id": "ace460a2-eebb-409b-ba78-302109194fef",
   "metadata": {},
   "source": [
    "## 7. Tampilkan hasil sorting dari kedua variable di atas (descending)"
   ]
  },
  {
   "cell_type": "code",
   "execution_count": 13,
   "id": "391d5373-4c8c-4a62-8d7a-86c94f6b53c9",
   "metadata": {},
   "outputs": [
    {
     "name": "stdout",
     "output_type": "stream",
     "text": [
      "Sorting random_tensor Descending\n",
      "tf.Tensor(\n",
      "[[ 1.044424    0.550125   -0.2260093  -0.27670863 -0.99282146]\n",
      " [ 2.606744    1.2158355   0.962488    0.6275071  -0.23018064]\n",
      " [ 1.7922432   0.83154875  0.19393615 -0.6700773  -2.2625775 ]\n",
      " [ 1.3929794   0.15425    -0.23747538 -0.4497052  -0.5474935 ]\n",
      " [ 1.2036611   0.31885868  0.31005445  0.18530105 -0.95406336]], shape=(5, 5), dtype=float32)\n",
      "\n",
      "\n",
      "Sorting prime_tensor Descending\n",
      "tf.Tensor(\n",
      "[[11.  7.  5.  3.  1.]\n",
      " [29. 23. 19. 17. 13.]\n",
      " [47. 43. 41. 37. 31.]\n",
      " [71. 67. 61. 59. 53.]\n",
      " [97. 89. 83. 79. 73.]], shape=(5, 5), dtype=float32)\n"
     ]
    }
   ],
   "source": [
    "print(\"Sorting random_tensor Descending\")\n",
    "print(tf.sort(random_tensor,direction=\"DESCENDING\"))\n",
    "print(\"\\n\")\n",
    "print(\"Sorting prime_tensor Descending\")\n",
    "print(tf.sort(prime_tensor,direction=\"DESCENDING\"))"
   ]
  },
  {
   "cell_type": "code",
   "execution_count": null,
   "id": "ceab4d98-a7e2-4c31-b905-5f5b4670ba57",
   "metadata": {},
   "outputs": [],
   "source": []
  }
 ],
 "metadata": {
  "kernelspec": {
   "display_name": "FIKRI_010",
   "language": "python",
   "name": "fikri_010"
  },
  "language_info": {
   "codemirror_mode": {
    "name": "ipython",
    "version": 3
   },
   "file_extension": ".py",
   "mimetype": "text/x-python",
   "name": "python",
   "nbconvert_exporter": "python",
   "pygments_lexer": "ipython3",
   "version": "3.10.7"
  }
 },
 "nbformat": 4,
 "nbformat_minor": 5
}
