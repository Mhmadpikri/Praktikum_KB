{
 "cells": [
  {
   "cell_type": "markdown",
   "id": "f6df8b74-7346-41cb-a515-bad8681915c2",
   "metadata": {},
   "source": [
    "## MUHAMMAD FIKRI\n",
    "## 2109106010\n",
    "## INFORMATIKA A1-21\n",
    "## POSTTEST 8 KB"
   ]
  },
  {
   "cell_type": "markdown",
   "id": "f0a0bff1-ea66-4ecc-b9d2-6215f7f1cbc0",
   "metadata": {},
   "source": [
    "# IMPORT LIBRARY"
   ]
  },
  {
   "cell_type": "code",
   "execution_count": 28,
   "id": "f9e6982c-0a93-4efe-9221-8e8a30cd87a2",
   "metadata": {},
   "outputs": [],
   "source": [
    "import numpy as np\n",
    "import pandas as pd\n",
    "import matplotlib.pyplot as plt\n",
    "import tensorflow as tf\n",
    "from tensorflow import keras\n",
    "from tensorflow.keras import Sequential\n",
    "from tensorflow.keras.layers import Dense\n",
    "from keras import datasets\n",
    "from sklearn.preprocessing import StandardScaler \n",
    "from sklearn.model_selection import train_test_split"
   ]
  },
  {
   "cell_type": "markdown",
   "id": "6dced614-54f6-47c5-a180-4ca6d9f8ed1c",
   "metadata": {},
   "source": [
    "# DISINI SAYA MENGGUNAKNA DATASET SOCIAL NETWORK\n",
    "## dan kita import datasetnya"
   ]
  },
  {
   "cell_type": "code",
   "execution_count": 2,
   "id": "a1babd7e-6fd5-4e4b-ad34-0ceb2e06a694",
   "metadata": {},
   "outputs": [
    {
     "data": {
      "text/html": [
       "<div>\n",
       "<style scoped>\n",
       "    .dataframe tbody tr th:only-of-type {\n",
       "        vertical-align: middle;\n",
       "    }\n",
       "\n",
       "    .dataframe tbody tr th {\n",
       "        vertical-align: top;\n",
       "    }\n",
       "\n",
       "    .dataframe thead th {\n",
       "        text-align: right;\n",
       "    }\n",
       "</style>\n",
       "<table border=\"1\" class=\"dataframe\">\n",
       "  <thead>\n",
       "    <tr style=\"text-align: right;\">\n",
       "      <th></th>\n",
       "      <th>User ID</th>\n",
       "      <th>Gender</th>\n",
       "      <th>Age</th>\n",
       "      <th>EstimatedSalary</th>\n",
       "      <th>Purchased</th>\n",
       "    </tr>\n",
       "  </thead>\n",
       "  <tbody>\n",
       "    <tr>\n",
       "      <th>0</th>\n",
       "      <td>15624510</td>\n",
       "      <td>Male</td>\n",
       "      <td>19</td>\n",
       "      <td>19000</td>\n",
       "      <td>0</td>\n",
       "    </tr>\n",
       "    <tr>\n",
       "      <th>1</th>\n",
       "      <td>15810944</td>\n",
       "      <td>Male</td>\n",
       "      <td>35</td>\n",
       "      <td>20000</td>\n",
       "      <td>0</td>\n",
       "    </tr>\n",
       "    <tr>\n",
       "      <th>2</th>\n",
       "      <td>15668575</td>\n",
       "      <td>Female</td>\n",
       "      <td>26</td>\n",
       "      <td>43000</td>\n",
       "      <td>0</td>\n",
       "    </tr>\n",
       "    <tr>\n",
       "      <th>3</th>\n",
       "      <td>15603246</td>\n",
       "      <td>Female</td>\n",
       "      <td>27</td>\n",
       "      <td>57000</td>\n",
       "      <td>0</td>\n",
       "    </tr>\n",
       "    <tr>\n",
       "      <th>4</th>\n",
       "      <td>15804002</td>\n",
       "      <td>Male</td>\n",
       "      <td>19</td>\n",
       "      <td>76000</td>\n",
       "      <td>0</td>\n",
       "    </tr>\n",
       "    <tr>\n",
       "      <th>...</th>\n",
       "      <td>...</td>\n",
       "      <td>...</td>\n",
       "      <td>...</td>\n",
       "      <td>...</td>\n",
       "      <td>...</td>\n",
       "    </tr>\n",
       "    <tr>\n",
       "      <th>395</th>\n",
       "      <td>15691863</td>\n",
       "      <td>Female</td>\n",
       "      <td>46</td>\n",
       "      <td>41000</td>\n",
       "      <td>1</td>\n",
       "    </tr>\n",
       "    <tr>\n",
       "      <th>396</th>\n",
       "      <td>15706071</td>\n",
       "      <td>Male</td>\n",
       "      <td>51</td>\n",
       "      <td>23000</td>\n",
       "      <td>1</td>\n",
       "    </tr>\n",
       "    <tr>\n",
       "      <th>397</th>\n",
       "      <td>15654296</td>\n",
       "      <td>Female</td>\n",
       "      <td>50</td>\n",
       "      <td>20000</td>\n",
       "      <td>1</td>\n",
       "    </tr>\n",
       "    <tr>\n",
       "      <th>398</th>\n",
       "      <td>15755018</td>\n",
       "      <td>Male</td>\n",
       "      <td>36</td>\n",
       "      <td>33000</td>\n",
       "      <td>0</td>\n",
       "    </tr>\n",
       "    <tr>\n",
       "      <th>399</th>\n",
       "      <td>15594041</td>\n",
       "      <td>Female</td>\n",
       "      <td>49</td>\n",
       "      <td>36000</td>\n",
       "      <td>1</td>\n",
       "    </tr>\n",
       "  </tbody>\n",
       "</table>\n",
       "<p>400 rows × 5 columns</p>\n",
       "</div>"
      ],
      "text/plain": [
       "      User ID  Gender  Age  EstimatedSalary  Purchased\n",
       "0    15624510    Male   19            19000          0\n",
       "1    15810944    Male   35            20000          0\n",
       "2    15668575  Female   26            43000          0\n",
       "3    15603246  Female   27            57000          0\n",
       "4    15804002    Male   19            76000          0\n",
       "..        ...     ...  ...              ...        ...\n",
       "395  15691863  Female   46            41000          1\n",
       "396  15706071    Male   51            23000          1\n",
       "397  15654296  Female   50            20000          1\n",
       "398  15755018    Male   36            33000          0\n",
       "399  15594041  Female   49            36000          1\n",
       "\n",
       "[400 rows x 5 columns]"
      ]
     },
     "execution_count": 2,
     "metadata": {},
     "output_type": "execute_result"
    }
   ],
   "source": [
    "data = pd.read_csv('Social_Network_Ads.csv')\n",
    "data"
   ]
  },
  {
   "cell_type": "markdown",
   "id": "e8b4e345-1242-40b3-8444-733e9b0fc6f9",
   "metadata": {},
   "source": [
    "# Untuk melihat jenis data"
   ]
  },
  {
   "cell_type": "code",
   "execution_count": 3,
   "id": "0f3ada7d-db0c-4577-a59c-d4597238b41a",
   "metadata": {},
   "outputs": [
    {
     "name": "stdout",
     "output_type": "stream",
     "text": [
      "<class 'pandas.core.frame.DataFrame'>\n",
      "RangeIndex: 400 entries, 0 to 399\n",
      "Data columns (total 5 columns):\n",
      " #   Column           Non-Null Count  Dtype \n",
      "---  ------           --------------  ----- \n",
      " 0   User ID          400 non-null    int64 \n",
      " 1   Gender           400 non-null    object\n",
      " 2   Age              400 non-null    int64 \n",
      " 3   EstimatedSalary  400 non-null    int64 \n",
      " 4   Purchased        400 non-null    int64 \n",
      "dtypes: int64(4), object(1)\n",
      "memory usage: 15.8+ KB\n"
     ]
    }
   ],
   "source": [
    "data.info()"
   ]
  },
  {
   "cell_type": "markdown",
   "id": "638d37cd-1e4d-4e4a-83c2-616866987c19",
   "metadata": {},
   "source": [
    "# Cek data yang null"
   ]
  },
  {
   "cell_type": "code",
   "execution_count": 5,
   "id": "b1220329-35ed-4e75-b8f5-fce0f1347f8e",
   "metadata": {},
   "outputs": [
    {
     "data": {
      "text/plain": [
       "User ID            0\n",
       "Gender             0\n",
       "Age                0\n",
       "EstimatedSalary    0\n",
       "Purchased          0\n",
       "dtype: int64"
      ]
     },
     "execution_count": 5,
     "metadata": {},
     "output_type": "execute_result"
    }
   ],
   "source": [
    "data.isnull().sum()"
   ]
  },
  {
   "cell_type": "markdown",
   "id": "6d71b45b-808b-4c52-8789-af94190011d8",
   "metadata": {},
   "source": [
    "# Data spliting"
   ]
  },
  {
   "cell_type": "code",
   "execution_count": 6,
   "id": "3aedcdbc-8712-47e7-b47a-181eff778490",
   "metadata": {},
   "outputs": [],
   "source": [
    "X = data[['User ID', 'Age', 'EstimatedSalary', 'Purchased']]\n",
    "Y = data[['User ID', 'Age', 'EstimatedSalary', 'Purchased']]"
   ]
  },
  {
   "cell_type": "code",
   "execution_count": 7,
   "id": "270d11ff-4b11-4f9c-a26b-f50c1c5c5488",
   "metadata": {},
   "outputs": [],
   "source": [
    "X_train, X_test, Y_train, Y_test = train_test_split(X, Y, test_size = 0.1 , random_state=0)"
   ]
  },
  {
   "cell_type": "code",
   "execution_count": 8,
   "id": "349c661e-2c9a-40cb-866c-a49bac40f802",
   "metadata": {},
   "outputs": [
    {
     "data": {
      "text/plain": [
       "(40, 4)"
      ]
     },
     "execution_count": 8,
     "metadata": {},
     "output_type": "execute_result"
    }
   ],
   "source": [
    "X_test.shape"
   ]
  },
  {
   "cell_type": "code",
   "execution_count": 9,
   "id": "31341afc-fb15-4b6a-bccb-ef6baa326bc0",
   "metadata": {},
   "outputs": [
    {
     "data": {
      "text/plain": [
       "(40, 4)"
      ]
     },
     "execution_count": 9,
     "metadata": {},
     "output_type": "execute_result"
    }
   ],
   "source": [
    "Y_test.shape"
   ]
  },
  {
   "cell_type": "code",
   "execution_count": 10,
   "id": "420ece7a-07a4-4e59-ac57-37e9f302c955",
   "metadata": {},
   "outputs": [
    {
     "data": {
      "text/plain": [
       "(360, 4)"
      ]
     },
     "execution_count": 10,
     "metadata": {},
     "output_type": "execute_result"
    }
   ],
   "source": [
    "X_train.shape"
   ]
  },
  {
   "cell_type": "code",
   "execution_count": 11,
   "id": "26717da2-e032-4bb9-ade2-ca20956e6b7b",
   "metadata": {},
   "outputs": [
    {
     "data": {
      "text/plain": [
       "(360, 4)"
      ]
     },
     "execution_count": 11,
     "metadata": {},
     "output_type": "execute_result"
    }
   ],
   "source": [
    "Y_train.shape"
   ]
  },
  {
   "cell_type": "markdown",
   "id": "0c31e390-e5eb-4ec9-94ea-53192074e69d",
   "metadata": {},
   "source": [
    "# membuat model"
   ]
  },
  {
   "cell_type": "code",
   "execution_count": 12,
   "id": "86c50b2e-a1ed-401b-840f-815739484fd3",
   "metadata": {},
   "outputs": [],
   "source": [
    "model_mnist = Sequential()"
   ]
  },
  {
   "cell_type": "markdown",
   "id": "8e4e0f17-8dad-493f-ae58-11656b164dba",
   "metadata": {},
   "source": [
    "## buat input layer"
   ]
  },
  {
   "cell_type": "code",
   "execution_count": 13,
   "id": "1e95222e-1295-40b5-a050-5c5586956a3b",
   "metadata": {},
   "outputs": [],
   "source": [
    "model_mnist.add(Dense(512, activation='relu', input_dim = 4))"
   ]
  },
  {
   "cell_type": "markdown",
   "id": "62efb5ed-77b5-4705-8b4f-bec0a29c9d13",
   "metadata": {},
   "source": [
    "## buat hidden layer"
   ]
  },
  {
   "cell_type": "code",
   "execution_count": 14,
   "id": "665a1e96-f98f-43e0-b9c1-6eb08c2f77e4",
   "metadata": {},
   "outputs": [],
   "source": [
    "model_mnist.add(Dense(256, activation='relu'))\n",
    "model_mnist.add(Dense(128, activation='relu'))"
   ]
  },
  {
   "cell_type": "markdown",
   "id": "a061f9b0-2e58-4f38-9f92-2109e09a6582",
   "metadata": {},
   "source": [
    "## buat output layer"
   ]
  },
  {
   "cell_type": "code",
   "execution_count": 15,
   "id": "c3a83ad7-3ff7-45b7-9e1a-278dce5de70c",
   "metadata": {},
   "outputs": [],
   "source": [
    "model_mnist.add(Dense(4, activation='softmax'))"
   ]
  },
  {
   "cell_type": "markdown",
   "id": "cc6f5804-8b2b-4caa-9781-a8c53671b11d",
   "metadata": {},
   "source": [
    "# DNN"
   ]
  },
  {
   "cell_type": "code",
   "execution_count": 16,
   "id": "bb3054ad-7b1a-4c58-b7ac-2d41d5e55f97",
   "metadata": {},
   "outputs": [
    {
     "name": "stdout",
     "output_type": "stream",
     "text": [
      "Model: \"sequential\"\n",
      "_________________________________________________________________\n",
      " Layer (type)                Output Shape              Param #   \n",
      "=================================================================\n",
      " dense (Dense)               (None, 512)               2560      \n",
      "                                                                 \n",
      " dense_1 (Dense)             (None, 256)               131328    \n",
      "                                                                 \n",
      " dense_2 (Dense)             (None, 128)               32896     \n",
      "                                                                 \n",
      " dense_3 (Dense)             (None, 4)                 516       \n",
      "                                                                 \n",
      "=================================================================\n",
      "Total params: 167,300\n",
      "Trainable params: 167,300\n",
      "Non-trainable params: 0\n",
      "_________________________________________________________________\n"
     ]
    }
   ],
   "source": [
    "model_mnist.summary()"
   ]
  },
  {
   "cell_type": "markdown",
   "id": "dc8b6ae4-d3fc-4c80-b913-a5fa94f90502",
   "metadata": {},
   "source": [
    "## OPTIMASLISASI"
   ]
  },
  {
   "cell_type": "code",
   "execution_count": 17,
   "id": "315737ff-ae56-4782-89da-9d61bac40216",
   "metadata": {},
   "outputs": [],
   "source": [
    "model_mnist.compile(\n",
    "    optimizer = 'adam', \n",
    "    loss = 'categorical_crossentropy', \n",
    "    metrics = ['accuracy']\n",
    ")"
   ]
  },
  {
   "cell_type": "code",
   "execution_count": 18,
   "id": "e3de132b-1239-435a-81ff-c78644276b1b",
   "metadata": {},
   "outputs": [
    {
     "name": "stdout",
     "output_type": "stream",
     "text": [
      "Epoch 1/30\n",
      "3/3 [==============================] - 1s 159ms/step - loss: 2188379422720.0000 - accuracy: 0.6444 - val_loss: 293576671232.0000 - val_accuracy: 1.0000\n",
      "Epoch 2/30\n",
      "3/3 [==============================] - 0s 27ms/step - loss: 382876942336.0000 - accuracy: 1.0000 - val_loss: 610048802816.0000 - val_accuracy: 1.0000\n",
      "Epoch 3/30\n",
      "3/3 [==============================] - 0s 26ms/step - loss: 724502315008.0000 - accuracy: 1.0000 - val_loss: 1025436745728.0000 - val_accuracy: 1.0000\n",
      "Epoch 4/30\n",
      "3/3 [==============================] - 0s 27ms/step - loss: 1178707296256.0000 - accuracy: 1.0000 - val_loss: 1579527962624.0000 - val_accuracy: 1.0000\n",
      "Epoch 5/30\n",
      "3/3 [==============================] - 0s 27ms/step - loss: 1777550884864.0000 - accuracy: 1.0000 - val_loss: 2305267597312.0000 - val_accuracy: 1.0000\n",
      "Epoch 6/30\n",
      "3/3 [==============================] - 0s 25ms/step - loss: 2567827095552.0000 - accuracy: 1.0000 - val_loss: 3248211623936.0000 - val_accuracy: 1.0000\n",
      "Epoch 7/30\n",
      "3/3 [==============================] - 0s 27ms/step - loss: 3591958691840.0000 - accuracy: 1.0000 - val_loss: 4476846473216.0000 - val_accuracy: 1.0000\n",
      "Epoch 8/30\n",
      "3/3 [==============================] - 0s 26ms/step - loss: 4908554649600.0000 - accuracy: 1.0000 - val_loss: 6046968971264.0000 - val_accuracy: 1.0000\n",
      "Epoch 9/30\n",
      "3/3 [==============================] - 0s 26ms/step - loss: 6600836251648.0000 - accuracy: 1.0000 - val_loss: 8023534206976.0000 - val_accuracy: 1.0000\n",
      "Epoch 10/30\n",
      "3/3 [==============================] - 0s 31ms/step - loss: 8725264859136.0000 - accuracy: 1.0000 - val_loss: 10479795699712.0000 - val_accuracy: 1.0000\n",
      "Epoch 11/30\n",
      "3/3 [==============================] - 0s 27ms/step - loss: 11358567399424.0000 - accuracy: 1.0000 - val_loss: 13496953602048.0000 - val_accuracy: 1.0000\n",
      "Epoch 12/30\n",
      "3/3 [==============================] - 0s 24ms/step - loss: 14588601958400.0000 - accuracy: 1.0000 - val_loss: 17163380326400.0000 - val_accuracy: 1.0000\n",
      "Epoch 13/30\n",
      "3/3 [==============================] - 0s 26ms/step - loss: 18416324837376.0000 - accuracy: 1.0000 - val_loss: 21567987777536.0000 - val_accuracy: 1.0000\n",
      "Epoch 14/30\n",
      "3/3 [==============================] - 0s 27ms/step - loss: 23050854596608.0000 - accuracy: 1.0000 - val_loss: 26815370362880.0000 - val_accuracy: 1.0000\n",
      "Epoch 15/30\n",
      "3/3 [==============================] - 0s 26ms/step - loss: 28525641859072.0000 - accuracy: 1.0000 - val_loss: 33016275533824.0000 - val_accuracy: 1.0000\n",
      "Epoch 16/30\n",
      "3/3 [==============================] - 0s 27ms/step - loss: 35016633483264.0000 - accuracy: 1.0000 - val_loss: 40288470958080.0000 - val_accuracy: 1.0000\n",
      "Epoch 17/30\n",
      "3/3 [==============================] - 0s 26ms/step - loss: 42831133540352.0000 - accuracy: 1.0000 - val_loss: 48759278927872.0000 - val_accuracy: 1.0000\n",
      "Epoch 18/30\n",
      "3/3 [==============================] - 0s 27ms/step - loss: 51435156799488.0000 - accuracy: 1.0000 - val_loss: 58505125953536.0000 - val_accuracy: 1.0000\n",
      "Epoch 19/30\n",
      "3/3 [==============================] - 0s 32ms/step - loss: 61566338727936.0000 - accuracy: 1.0000 - val_loss: 69643456741376.0000 - val_accuracy: 1.0000\n",
      "Epoch 20/30\n",
      "3/3 [==============================] - 0s 27ms/step - loss: 73275975663616.0000 - accuracy: 1.0000 - val_loss: 82344757166080.0000 - val_accuracy: 1.0000\n",
      "Epoch 21/30\n",
      "3/3 [==============================] - 0s 26ms/step - loss: 86426687373312.0000 - accuracy: 1.0000 - val_loss: 96757727887360.0000 - val_accuracy: 1.0000\n",
      "Epoch 22/30\n",
      "3/3 [==============================] - 0s 24ms/step - loss: 101113328041984.0000 - accuracy: 1.0000 - val_loss: 113045770600448.0000 - val_accuracy: 1.0000\n",
      "Epoch 23/30\n",
      "3/3 [==============================] - 0s 23ms/step - loss: 118262662692864.0000 - accuracy: 1.0000 - val_loss: 131382487547904.0000 - val_accuracy: 1.0000\n",
      "Epoch 24/30\n",
      "3/3 [==============================] - 0s 26ms/step - loss: 137031132905472.0000 - accuracy: 1.0000 - val_loss: 151915476287488.0000 - val_accuracy: 1.0000\n",
      "Epoch 25/30\n",
      "3/3 [==============================] - 0s 24ms/step - loss: 158144437157888.0000 - accuracy: 1.0000 - val_loss: 174827482644480.0000 - val_accuracy: 1.0000\n",
      "Epoch 26/30\n",
      "3/3 [==============================] - 0s 24ms/step - loss: 182174695292928.0000 - accuracy: 1.0000 - val_loss: 200308651196416.0000 - val_accuracy: 1.0000\n",
      "Epoch 27/30\n",
      "3/3 [==============================] - 0s 25ms/step - loss: 207865511936000.0000 - accuracy: 1.0000 - val_loss: 228498601934848.0000 - val_accuracy: 1.0000\n",
      "Epoch 28/30\n",
      "3/3 [==============================] - 0s 30ms/step - loss: 237015287201792.0000 - accuracy: 1.0000 - val_loss: 259633457397760.0000 - val_accuracy: 1.0000\n",
      "Epoch 29/30\n",
      "3/3 [==============================] - 0s 26ms/step - loss: 268965599248384.0000 - accuracy: 1.0000 - val_loss: 293887499304960.0000 - val_accuracy: 1.0000\n",
      "Epoch 30/30\n",
      "3/3 [==============================] - 0s 24ms/step - loss: 304126332239872.0000 - accuracy: 1.0000 - val_loss: 331460175200256.0000 - val_accuracy: 1.0000\n"
     ]
    }
   ],
   "source": [
    "hasil = model_mnist.fit(\n",
    "    X_train, \n",
    "    Y_train, \n",
    "    epochs = 30, \n",
    "    batch_size = 128, \n",
    "    validation_data = (X_test, Y_test)\n",
    ")"
   ]
  },
  {
   "cell_type": "markdown",
   "id": "39a0626c-4b86-4270-95ad-d1b339d8df2e",
   "metadata": {},
   "source": [
    "# EVALUASI DATA"
   ]
  },
  {
   "cell_type": "code",
   "execution_count": 25,
   "id": "6ebfb984-b587-4b3c-9b79-46795e6eb237",
   "metadata": {},
   "outputs": [
    {
     "name": "stdout",
     "output_type": "stream",
     "text": [
      "2/2 [==============================] - 0s 5ms/step - loss: 331460175200256.0000 - accuracy: 1.0000\n",
      "Loss : 331460175200256.0\n",
      "Training : 1.0\n"
     ]
    }
   ],
   "source": [
    "score = model_mnist.evaluate(X_test, Y_test)\n",
    "print(\"Loss :\",score[0])\n",
    "print(\"Training :\",score[1])"
   ]
  },
  {
   "cell_type": "code",
   "execution_count": 26,
   "id": "43ee47ac-4390-4538-9b6b-90376fe5e19f",
   "metadata": {},
   "outputs": [
    {
     "name": "stdout",
     "output_type": "stream",
     "text": [
      "Akurasi validasi : 100.0 %\n",
      "Akurasi : 100.0 %\n"
     ]
    }
   ],
   "source": [
    "print(\"Akurasi validasi :\", hasil.history[\"val_accuracy\"][-1] * 100, \"%\")\n",
    "print(\"Akurasi :\", hasil.history[\"accuracy\"][-1] * 100, \"%\")"
   ]
  },
  {
   "cell_type": "code",
   "execution_count": null,
   "id": "7ecd0b53-0795-402f-b0a2-f82c14be7bd2",
   "metadata": {},
   "outputs": [],
   "source": []
  },
  {
   "cell_type": "code",
   "execution_count": null,
   "id": "0e74d8cd-3363-4e7e-87ce-06a4c06cd0cb",
   "metadata": {},
   "outputs": [],
   "source": []
  }
 ],
 "metadata": {
  "kernelspec": {
   "display_name": "FIKRI_010",
   "language": "python",
   "name": "fikri_010"
  },
  "language_info": {
   "codemirror_mode": {
    "name": "ipython",
    "version": 3
   },
   "file_extension": ".py",
   "mimetype": "text/x-python",
   "name": "python",
   "nbconvert_exporter": "python",
   "pygments_lexer": "ipython3",
   "version": "3.10.7"
  }
 },
 "nbformat": 4,
 "nbformat_minor": 5
}
